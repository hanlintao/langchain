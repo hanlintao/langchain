{
  "nbformat": 4,
  "nbformat_minor": 0,
  "metadata": {
    "colab": {
      "provenance": [],
      "authorship_tag": "ABX9TyORYQPP4pdrK3BIvP1n0tj3",
      "include_colab_link": true
    },
    "kernelspec": {
      "name": "python3",
      "display_name": "Python 3"
    },
    "language_info": {
      "name": "python"
    }
  },
  "cells": [
    {
      "cell_type": "markdown",
      "metadata": {
        "id": "view-in-github",
        "colab_type": "text"
      },
      "source": [
        "<a href=\"https://colab.research.google.com/github/hanlintao/langchain/blob/main/langchain_01.ipynb\" target=\"_parent\"><img src=\"https://colab.research.google.com/assets/colab-badge.svg\" alt=\"Open In Colab\"/></a>"
      ]
    },
    {
      "cell_type": "markdown",
      "source": [
        "**本教程由北京语言大学高级翻译学院教师韩林涛撰写，目的是帮助翻译专业的师生了解如何使用Langchain来解决翻译相关的的问题。**"
      ],
      "metadata": {
        "id": "JmdjDu1uOXor"
      }
    },
    {
      "cell_type": "markdown",
      "source": [
        "**第一步：安装Langchain**\n",
        "\n",
        "什么是Langchain？\n",
        "\n",
        "Langchain 是一个开源的 Python 库，它专注于构建和操作语言链（Language Chains）。语言链是一系列的自然语言处理（NLP）组件，它们以链式的方式组合在一起，以解决复杂的语言任务。每个组件在链中承担一个特定的角色，比如文本生成、提问回答、总结等。\n",
        "\n",
        "Langchain 库的目的是提供一个框架，使开发者能够更轻松地构建、测试和部署基于多个语言模型的应用程序。这些应用程序可以涵盖从简单的问答系统到复杂的对话系统等多种用途。\n",
        "\n",
        "Langchain官方推荐使用Jupyter Notebook来撰写代码。Google Colab打开后可以直接进入Jupyter Notebook模式，所撰写的代码均已.ipynb结尾。\n"
      ],
      "metadata": {
        "id": "40ZfqOK1cfe2"
      }
    },
    {
      "cell_type": "code",
      "execution_count": 5,
      "metadata": {
        "colab": {
          "base_uri": "https://localhost:8080/"
        },
        "id": "uoEbAH_NcIl5",
        "outputId": "1cded5d7-c616-4af5-ffdb-28c8346422b5"
      },
      "outputs": [
        {
          "output_type": "stream",
          "name": "stdout",
          "text": [
            "Collecting langchain==0.0.343\n",
            "  Downloading langchain-0.0.343-py3-none-any.whl (1.9 MB)\n",
            "\u001b[?25l     \u001b[90m━━━━━━━━━━━━━━━━━━━━━━━━━━━━━━━━━━━━━━━━\u001b[0m \u001b[32m0.0/1.9 MB\u001b[0m \u001b[31m?\u001b[0m eta \u001b[36m-:--:--\u001b[0m\r\u001b[2K     \u001b[91m━━━━━━\u001b[0m\u001b[91m╸\u001b[0m\u001b[90m━━━━━━━━━━━━━━━━━━━━━━━━━━━━━━━━━\u001b[0m \u001b[32m0.3/1.9 MB\u001b[0m \u001b[31m9.6 MB/s\u001b[0m eta \u001b[36m0:00:01\u001b[0m\r\u001b[2K     \u001b[91m━━━━━━━━━━━━━━━━━━━━━\u001b[0m\u001b[91m╸\u001b[0m\u001b[90m━━━━━━━━━━━━━━━━━━\u001b[0m \u001b[32m1.0/1.9 MB\u001b[0m \u001b[31m15.2 MB/s\u001b[0m eta \u001b[36m0:00:01\u001b[0m\r\u001b[2K     \u001b[91m━━━━━━━━━━━━━━━━━━━━━━━━━━━━━━━━━━━━━\u001b[0m\u001b[90m╺\u001b[0m\u001b[90m━━\u001b[0m \u001b[32m1.8/1.9 MB\u001b[0m \u001b[31m16.9 MB/s\u001b[0m eta \u001b[36m0:00:01\u001b[0m\r\u001b[2K     \u001b[90m━━━━━━━━━━━━━━━━━━━━━━━━━━━━━━━━━━━━━━━━\u001b[0m \u001b[32m1.9/1.9 MB\u001b[0m \u001b[31m15.0 MB/s\u001b[0m eta \u001b[36m0:00:00\u001b[0m\n",
            "\u001b[?25hRequirement already satisfied: PyYAML>=5.3 in /usr/local/lib/python3.10/dist-packages (from langchain==0.0.343) (6.0.1)\n",
            "Requirement already satisfied: SQLAlchemy<3,>=1.4 in /usr/local/lib/python3.10/dist-packages (from langchain==0.0.343) (2.0.24)\n",
            "Requirement already satisfied: aiohttp<4.0.0,>=3.8.3 in /usr/local/lib/python3.10/dist-packages (from langchain==0.0.343) (3.9.1)\n",
            "Requirement already satisfied: anyio<4.0 in /usr/local/lib/python3.10/dist-packages (from langchain==0.0.343) (3.7.1)\n",
            "Requirement already satisfied: async-timeout<5.0.0,>=4.0.0 in /usr/local/lib/python3.10/dist-packages (from langchain==0.0.343) (4.0.3)\n",
            "Collecting dataclasses-json<0.7,>=0.5.7 (from langchain==0.0.343)\n",
            "  Downloading dataclasses_json-0.6.3-py3-none-any.whl (28 kB)\n",
            "Collecting jsonpatch<2.0,>=1.33 (from langchain==0.0.343)\n",
            "  Downloading jsonpatch-1.33-py2.py3-none-any.whl (12 kB)\n",
            "Collecting langchain-core<0.1,>=0.0.7 (from langchain==0.0.343)\n",
            "  Downloading langchain_core-0.0.13-py3-none-any.whl (188 kB)\n",
            "\u001b[2K     \u001b[90m━━━━━━━━━━━━━━━━━━━━━━━━━━━━━━━━━━━━━━━━\u001b[0m \u001b[32m188.2/188.2 kB\u001b[0m \u001b[31m17.5 MB/s\u001b[0m eta \u001b[36m0:00:00\u001b[0m\n",
            "\u001b[?25hCollecting langsmith<0.1.0,>=0.0.63 (from langchain==0.0.343)\n",
            "  Downloading langsmith-0.0.85-py3-none-any.whl (54 kB)\n",
            "\u001b[2K     \u001b[90m━━━━━━━━━━━━━━━━━━━━━━━━━━━━━━━━━━━━━━━━\u001b[0m \u001b[32m54.0/54.0 kB\u001b[0m \u001b[31m7.2 MB/s\u001b[0m eta \u001b[36m0:00:00\u001b[0m\n",
            "\u001b[?25hRequirement already satisfied: numpy<2,>=1 in /usr/local/lib/python3.10/dist-packages (from langchain==0.0.343) (1.23.5)\n",
            "Requirement already satisfied: pydantic<3,>=1 in /usr/local/lib/python3.10/dist-packages (from langchain==0.0.343) (1.10.14)\n",
            "Requirement already satisfied: requests<3,>=2 in /usr/local/lib/python3.10/dist-packages (from langchain==0.0.343) (2.31.0)\n",
            "Requirement already satisfied: tenacity<9.0.0,>=8.1.0 in /usr/local/lib/python3.10/dist-packages (from langchain==0.0.343) (8.2.3)\n",
            "Requirement already satisfied: attrs>=17.3.0 in /usr/local/lib/python3.10/dist-packages (from aiohttp<4.0.0,>=3.8.3->langchain==0.0.343) (23.2.0)\n",
            "Requirement already satisfied: multidict<7.0,>=4.5 in /usr/local/lib/python3.10/dist-packages (from aiohttp<4.0.0,>=3.8.3->langchain==0.0.343) (6.0.4)\n",
            "Requirement already satisfied: yarl<2.0,>=1.0 in /usr/local/lib/python3.10/dist-packages (from aiohttp<4.0.0,>=3.8.3->langchain==0.0.343) (1.9.4)\n",
            "Requirement already satisfied: frozenlist>=1.1.1 in /usr/local/lib/python3.10/dist-packages (from aiohttp<4.0.0,>=3.8.3->langchain==0.0.343) (1.4.1)\n",
            "Requirement already satisfied: aiosignal>=1.1.2 in /usr/local/lib/python3.10/dist-packages (from aiohttp<4.0.0,>=3.8.3->langchain==0.0.343) (1.3.1)\n",
            "Requirement already satisfied: idna>=2.8 in /usr/local/lib/python3.10/dist-packages (from anyio<4.0->langchain==0.0.343) (3.6)\n",
            "Requirement already satisfied: sniffio>=1.1 in /usr/local/lib/python3.10/dist-packages (from anyio<4.0->langchain==0.0.343) (1.3.0)\n",
            "Requirement already satisfied: exceptiongroup in /usr/local/lib/python3.10/dist-packages (from anyio<4.0->langchain==0.0.343) (1.2.0)\n",
            "Collecting marshmallow<4.0.0,>=3.18.0 (from dataclasses-json<0.7,>=0.5.7->langchain==0.0.343)\n",
            "  Downloading marshmallow-3.20.2-py3-none-any.whl (49 kB)\n",
            "\u001b[2K     \u001b[90m━━━━━━━━━━━━━━━━━━━━━━━━━━━━━━━━━━━━━━━━\u001b[0m \u001b[32m49.4/49.4 kB\u001b[0m \u001b[31m7.4 MB/s\u001b[0m eta \u001b[36m0:00:00\u001b[0m\n",
            "\u001b[?25hCollecting typing-inspect<1,>=0.4.0 (from dataclasses-json<0.7,>=0.5.7->langchain==0.0.343)\n",
            "  Downloading typing_inspect-0.9.0-py3-none-any.whl (8.8 kB)\n",
            "Collecting jsonpointer>=1.9 (from jsonpatch<2.0,>=1.33->langchain==0.0.343)\n",
            "  Downloading jsonpointer-2.4-py2.py3-none-any.whl (7.8 kB)\n",
            "Requirement already satisfied: packaging<24.0,>=23.2 in /usr/local/lib/python3.10/dist-packages (from langchain-core<0.1,>=0.0.7->langchain==0.0.343) (23.2)\n",
            "Requirement already satisfied: typing-extensions>=4.2.0 in /usr/local/lib/python3.10/dist-packages (from pydantic<3,>=1->langchain==0.0.343) (4.5.0)\n",
            "Requirement already satisfied: charset-normalizer<4,>=2 in /usr/local/lib/python3.10/dist-packages (from requests<3,>=2->langchain==0.0.343) (3.3.2)\n",
            "Requirement already satisfied: urllib3<3,>=1.21.1 in /usr/local/lib/python3.10/dist-packages (from requests<3,>=2->langchain==0.0.343) (2.0.7)\n",
            "Requirement already satisfied: certifi>=2017.4.17 in /usr/local/lib/python3.10/dist-packages (from requests<3,>=2->langchain==0.0.343) (2023.11.17)\n",
            "Requirement already satisfied: greenlet!=0.4.17 in /usr/local/lib/python3.10/dist-packages (from SQLAlchemy<3,>=1.4->langchain==0.0.343) (3.0.3)\n",
            "Collecting mypy-extensions>=0.3.0 (from typing-inspect<1,>=0.4.0->dataclasses-json<0.7,>=0.5.7->langchain==0.0.343)\n",
            "  Downloading mypy_extensions-1.0.0-py3-none-any.whl (4.7 kB)\n",
            "Installing collected packages: mypy-extensions, marshmallow, jsonpointer, typing-inspect, langsmith, jsonpatch, langchain-core, dataclasses-json, langchain\n",
            "Successfully installed dataclasses-json-0.6.3 jsonpatch-1.33 jsonpointer-2.4 langchain-0.0.343 langchain-core-0.0.13 langsmith-0.0.85 marshmallow-3.20.2 mypy-extensions-1.0.0 typing-inspect-0.9.0\n"
          ]
        }
      ],
      "source": [
        "!pip install langchain==0.0.343"
      ]
    },
    {
      "cell_type": "markdown",
      "source": [
        "常见问题：\n",
        "\n",
        "1. 为什么在Colab中安装Langchain时需要在最前面添加一个!或者一个%？\n",
        "\n",
        "  在 Google Colab 或其他 Jupyter Notebook 环境中，`!` 和 `%` 是特殊的命令前缀，它们用于在 notebook 单元中执行特定类型的操作。\n",
        "\n",
        "   **感叹号 (`!`)**：当您在代码单元的开始处使用感叹号 (`!`) 时，它表示接下来的命令应该在系统的 shell 中执行，而不是作为 Python 代码执行。这通常用于运行如 `pip install` 或其他系统命令。例如，在 Colab 中安装 Langchain 库的命令会是：\n",
        "\n",
        "   ```python\n",
        "   !pip install langchain\n",
        "   ```\n",
        "\n",
        "   这个命令告诉 Colab 在其后台运行的系统 shell 中执行 `pip install langchain` 命令，就像在本地终端或命令提示符中运行一样。\n",
        "\n",
        "   **百分号 (`%`)**：百分号用于 Jupyter Notebook 的“魔法”命令（Magic Commands），这些是 Jupyter 特有的一组功能强大的命令。例如，`%timeit` 可以用来快速测量 Python 代码的执行时间。在某些情况下，可能会使用 `%pip install`，这是一个特定于 Jupyter 环境的命令，用于确保库安装在当前 notebook 环境中，而不是主 Python 安装中。但是，通常 `!pip install` 在 Colab 中就足够了。\n",
        "\n",
        "  总之，这些特殊前缀允许您在 Jupyter Notebook 或 Colab 单元中运行不仅限于 Python 的各种命令，从而增强了 notebook 的灵活性和功能性。\n",
        "\n",
        "2. 为什么要制定Langchain的版本？\n",
        "\n",
        "如果不指定Langchain的版本，intall命令会默认安装最新的版本，导致现在的代码无法正常运行。\n",
        "\n"
      ],
      "metadata": {
        "id": "KhTeez2TfB8h"
      }
    },
    {
      "cell_type": "markdown",
      "source": [
        "**第二步：安装OpenAI**"
      ],
      "metadata": {
        "id": "CauEUo0Gfl8G"
      }
    },
    {
      "cell_type": "code",
      "source": [
        "!pip install openai==0.28"
      ],
      "metadata": {
        "colab": {
          "base_uri": "https://localhost:8080/"
        },
        "id": "RGv-GUmWfkIg",
        "outputId": "8cbde98e-b12c-4cd6-cfa0-abf3741b424f"
      },
      "execution_count": 6,
      "outputs": [
        {
          "output_type": "stream",
          "name": "stdout",
          "text": [
            "Requirement already satisfied: openai==0.28 in /usr/local/lib/python3.10/dist-packages (0.28.0)\n",
            "Requirement already satisfied: requests>=2.20 in /usr/local/lib/python3.10/dist-packages (from openai==0.28) (2.31.0)\n",
            "Requirement already satisfied: tqdm in /usr/local/lib/python3.10/dist-packages (from openai==0.28) (4.66.1)\n",
            "Requirement already satisfied: aiohttp in /usr/local/lib/python3.10/dist-packages (from openai==0.28) (3.9.1)\n",
            "Requirement already satisfied: charset-normalizer<4,>=2 in /usr/local/lib/python3.10/dist-packages (from requests>=2.20->openai==0.28) (3.3.2)\n",
            "Requirement already satisfied: idna<4,>=2.5 in /usr/local/lib/python3.10/dist-packages (from requests>=2.20->openai==0.28) (3.6)\n",
            "Requirement already satisfied: urllib3<3,>=1.21.1 in /usr/local/lib/python3.10/dist-packages (from requests>=2.20->openai==0.28) (2.0.7)\n",
            "Requirement already satisfied: certifi>=2017.4.17 in /usr/local/lib/python3.10/dist-packages (from requests>=2.20->openai==0.28) (2023.11.17)\n",
            "Requirement already satisfied: attrs>=17.3.0 in /usr/local/lib/python3.10/dist-packages (from aiohttp->openai==0.28) (23.2.0)\n",
            "Requirement already satisfied: multidict<7.0,>=4.5 in /usr/local/lib/python3.10/dist-packages (from aiohttp->openai==0.28) (6.0.4)\n",
            "Requirement already satisfied: yarl<2.0,>=1.0 in /usr/local/lib/python3.10/dist-packages (from aiohttp->openai==0.28) (1.9.4)\n",
            "Requirement already satisfied: frozenlist>=1.1.1 in /usr/local/lib/python3.10/dist-packages (from aiohttp->openai==0.28) (1.4.1)\n",
            "Requirement already satisfied: aiosignal>=1.1.2 in /usr/local/lib/python3.10/dist-packages (from aiohttp->openai==0.28) (1.3.1)\n",
            "Requirement already satisfied: async-timeout<5.0,>=4.0 in /usr/local/lib/python3.10/dist-packages (from aiohttp->openai==0.28) (4.0.3)\n"
          ]
        }
      ]
    },
    {
      "cell_type": "code",
      "source": [
        "#设置OpenAI API Key\n",
        "\n",
        "import os\n",
        "\n",
        "os.environ[\"OPENAI_API_KEY\"] = \"\""
      ],
      "metadata": {
        "id": "yEEIP_-MfxLa"
      },
      "execution_count": 7,
      "outputs": []
    },
    {
      "cell_type": "markdown",
      "source": [
        "**第三步：基于OpenAI库回答一个问题**"
      ],
      "metadata": {
        "id": "lLP98md6gC4o"
      }
    },
    {
      "cell_type": "code",
      "source": [
        "import openai\n",
        "\n",
        "prompt = \"翻译专业学生是否需要学习编程\"\n",
        "\n",
        "response = openai.ChatCompletion.create(\n",
        "    model=\"gpt-4\",\n",
        "    messages=[\n",
        "        {\"role\": \"system\", \"content\": \"You are a helpful assistant.\"},\n",
        "        {\"role\": \"user\", \"content\": prompt},\n",
        "    ],\n",
        ")\n",
        "\n",
        "# 从结果中抽取答案\n",
        "generated_text = response['choices'][0]['message']['content']\n",
        "\n",
        "print(generated_text)"
      ],
      "metadata": {
        "colab": {
          "base_uri": "https://localhost:8080/"
        },
        "id": "dFx3Z240gBTa",
        "outputId": "6b5d145b-fde7-41c6-9079-18b6dc827ca1"
      },
      "execution_count": 11,
      "outputs": [
        {
          "output_type": "stream",
          "name": "stdout",
          "text": [
            "这完全取决于学生的兴趣和职业目标。学习编程可以增加很多技能，包括逻辑思考、问题解决以及在各种领域（如机器翻译或自然语言处理等）的应用。\n",
            "\n",
            "如果一个翻译专业的学生对这些领域感兴趣，或者他们想要探索与翻译相关的技术领域（例如，开发或改进翻译软件），那么学习编程肯定是有好处的。然而，如果他们主要关注翻译的文化和语言方面，并且不打算走技术路线，那么编程可能不是必需学习的技能。\n"
          ]
        }
      ]
    },
    {
      "cell_type": "markdown",
      "source": [
        "**知识点**\n",
        "\n",
        "上述方法没有使用Langchain，而是直接调用OpenAI提供的ChatCompletion。\n",
        "\n",
        "这个例子也说明了：即便没有Langchain，我们也可以调用OpenAI。\n",
        "\n"
      ],
      "metadata": {
        "id": "QxKYYZS_sZc9"
      }
    },
    {
      "cell_type": "markdown",
      "source": [
        "**第四步：基于Langchain调用OpenAI回答一个问题**"
      ],
      "metadata": {
        "id": "GGgVV0xetLrw"
      }
    },
    {
      "cell_type": "code",
      "source": [
        "from langchain.chat_models import ChatOpenAI\n",
        "\n",
        "chat_model = ChatOpenAI()\n",
        "\n",
        "generated_text = chat_model.predict(\"翻译专业学生是否需要学习编程\")\n",
        "\n",
        "print(generated_text)"
      ],
      "metadata": {
        "colab": {
          "base_uri": "https://localhost:8080/"
        },
        "id": "kzK2KCuesppA",
        "outputId": "aeb6407c-6245-4b63-e1b6-89992b57c4b9"
      },
      "execution_count": 12,
      "outputs": [
        {
          "output_type": "stream",
          "name": "stdout",
          "text": [
            "翻译专业学生是否需要学习编程取决于他们的兴趣和职业规划。学习编程可以为翻译专业学生提供一些额外的技能，例如自动化翻译工具的使用和网站本地化等。此外，编程也可以帮助学生更好地理解计算机辅助翻译软件的原理和功能。然而，对于一些翻译专业学生来说，学习编程可能并不是必要的，他们可以专注于其他翻译相关的技能和知识。最终，决定是否学习编程应该根据个人的兴趣和职业目标来做出。\n"
          ]
        }
      ]
    },
    {
      "cell_type": "markdown",
      "source": [
        "**知识点**\n",
        "\n",
        "上面的例子是借助Langchain来调用OpenAI API，完成了一问一答。\n",
        "\n",
        "这个例子可以说明为什么要学习Langchain，Langchain 简化了与大语言模型交互的过程，使开发变得更容易。"
      ],
      "metadata": {
        "id": "gZvJwI_TtB4F"
      }
    },
    {
      "cell_type": "markdown",
      "source": [
        "**第五步：基于Langchain的指令模板（PromptTemplate）提问**"
      ],
      "metadata": {
        "id": "un-qbxnityxD"
      }
    },
    {
      "cell_type": "code",
      "source": [
        "# 设计提问模板\n",
        "\n",
        "from langchain.prompts.chat import (\n",
        "    SystemMessagePromptTemplate,\n",
        "    HumanMessagePromptTemplate,\n",
        "    ChatPromptTemplate\n",
        ")\n",
        "\n",
        "system_template = SystemMessagePromptTemplate.from_template(\"你是北京语言大学高级翻译学院从事翻译技术教学与研究的教师\")\n",
        "\n",
        "user_template = HumanMessagePromptTemplate.from_template(\"{user_prompt}\")\n",
        "\n",
        "template = ChatPromptTemplate.from_messages([system_template, user_template])\n",
        "\n",
        "# 创建OpenAI问答实例\n",
        "\n",
        "from langchain.chat_models import ChatOpenAI\n",
        "\n",
        "llm = ChatOpenAI(temperature=0.7, model_name=\"gpt-4\", n=3)\n",
        "\n",
        "# 创建一个语言链\n",
        "\n",
        "from langchain.chains import LLMChain\n",
        "\n",
        "chain = LLMChain(llm=llm, prompt=template)\n",
        "\n",
        "# 创建用户问题\n",
        "\n",
        "user_prompt = \"翻译专业学生是否需要学习编程\"\n",
        "\n",
        "# 运行语言链\n",
        "\n",
        "chain_output = chain.run({\"user_prompt\": user_prompt})\n",
        "\n",
        "print(chain_output)\n",
        "\n"
      ],
      "metadata": {
        "colab": {
          "base_uri": "https://localhost:8080/"
        },
        "id": "IjZxVvfit9Rd",
        "outputId": "5953bc8d-eb91-4e5c-8015-9d89f78e2625"
      },
      "execution_count": 13,
      "outputs": [
        {
          "output_type": "stream",
          "name": "stdout",
          "text": [
            "作为从事翻译技术教学与研究的教师，我认为翻译专业的学生学习一些基础的编程知识是有好处的。虽然不是必须的，但在某些方面，它可以帮助翻译专业的学生更好地理解和掌握一些翻译工具，提高翻译的效率和质量。\n",
            "\n",
            "首先，许多现代翻译工具，如计算机辅助翻译（CAT）工具，都涉及到一些编程知识，如XML、HTML等。如果学生能理解这些编程语言的基础知识，他们就能更好地使用这些工具，解决在翻译过程中可能遇到的技术问题。\n",
            "\n",
            "其次，随着机器翻译的发展，越来越多的翻译工作涉及到人工智能和深度学习技术。对这些技术有一定了解，可以帮助学生更好地理解机器翻译的原理和限制，从而更有效地使用机器翻译工具。\n",
            "\n",
            "再次，学习编程也可以提高学生的逻辑思维和问题解决能力，这对于翻译工作也是非常有用的。\n",
            "\n",
            "总的来说，虽然编程不是翻译专业学生必须学习的课程，但学习一些基础的编程知识，对他们的翻译工作是有帮助的。\n"
          ]
        }
      ]
    },
    {
      "cell_type": "markdown",
      "source": [
        "**结果对比**\n",
        "\n",
        "**1. 直接调用OpenAI得到的答案**\n",
        "\n",
        "  这完全取决于学生的兴趣和职业目标。学习编程可以增加很多技能，包括逻辑思考、问题解决以及在各种领域（如机器翻译或自然语言处理等）的应用。\n",
        "\n",
        "  如果一个翻译专业的学生对这些领域感兴趣，或者他们想要探索与翻译相关的技术领域（例如，开发或改进翻译软件），那么学习编程肯定是有好处的。然而，如果他们主要关注翻译的文化和语言方面，并且不打算走技术路线，那么编程可能不是必需学习的技能。\n",
        "\n",
        "**2. 使用Langchain调用OpenAI得到的答案**\n",
        "\n",
        "  翻译专业学生是否需要学习编程取决于他们的兴趣和职业规划。学习编程可以为翻译专业学生提供一些额外的技能，例如自动化翻译工具的使用和网站本地化等。此外，编程也可以帮助学生更好地理解计算机辅助翻译软件的原理和功能。然而，对于一些翻译专业学生来说，学习编程可能并不是必要的，他们可以专注于其他翻译相关的技能和知识。最终，决定是否学习编程应该根据个人的兴趣和职业目标来做出。\n",
        "\n",
        "**3. 使用Langchain PromptTemplate得到的答案**\n",
        "\n",
        "  作为从事翻译技术教学与研究的教师，我认为翻译专业的学生学习一些基础的编程知识是有好处的。虽然不是必须的，但在某些方面，它可以帮助翻译专业的学生更好地理解和掌握一些翻译工具，提高翻译的效率和质量。\n",
        "\n",
        "  首先，许多现代翻译工具，如计算机辅助翻译（CAT）工具，都涉及到一些编程知识，如XML、HTML等。如果学生能理解这些编程语言的基础知识，他们就能更好地使用这些工具，解决在翻译过程中可能遇到的技术问题。\n",
        "\n",
        "  其次，随着机器翻译的发展，越来越多的翻译工作涉及到人工智能和深度学习技术。对这些技术有一定了解，可以帮助学生更好地理解机器翻译的原理和限制，从而更有效地使用机器翻译工具。\n",
        "\n",
        "  再次，学习编程也可以提高学生的逻辑思维和问题解决能力，这对于翻译工作也是非常有用的。\n",
        "\n",
        "  总的来说，虽然编程不是翻译专业学生必须学习的课程，但学习一些基础的编程知识，对他们的翻译工作是有帮助的。"
      ],
      "metadata": {
        "id": "1sAPcVOCv8DW"
      }
    },
    {
      "cell_type": "markdown",
      "source": [
        "**知识点**\n",
        "\n",
        "这段代码是使用Langchain库进行文本生成的示例。\n",
        "\n",
        "• 从langchain.prompts.chat导入SystemMessagePromptTemplate、AIMessagePromptTemplate、HumanMessagePromptTemplate和ChatPromptTemplate，用于设计提问模板。\n",
        "\n",
        "• 使用SystemMessagePromptTemplate.from_template()创建一个系统消息模板，表示问题的背景信息。\n",
        "\n",
        "• 使用HumanMessagePromptTemplate.from_template()创建一个用户消息模板，表示用户的提问。\n",
        "\n",
        "• 使用ChatPromptTemplate.from_messages()创建一个包含多个消息的聊天提问模板，包括系统消息和用户消息。\n",
        "\n",
        "• 从langchain.chat_models导入ChatOpenAI，用于创建一个OpenAI问答实例。\n",
        "\n",
        "• 使用ChatOpenAI()创建一个实例，传入参数temperature（控制生成文本的随机性，取值范围为0到2，默认值为1）和model_name（要使用的OpenAI模型名称）。\n",
        "\n",
        "• 从langchain.chains导入LLMChain，用于创建一个语言模型链。\n",
        "\n",
        "• 使用LLMChain()创建一个实例，传入参数llm（问答实例）和prompt（聊天提问模板）。\n",
        "\n",
        "• 定义用户提问user_prompt。\n",
        "\n",
        "• 使用chain.run()运行语言模型链，传入用户提问作为字典的键值对，并将输出存储在chain_output变量中。\n",
        "\n",
        "• 使用print()打印输出。\n",
        "\n",
        "**ChatOpenAI()类：**\n",
        "\n",
        "ChatOpenAI 是一个用于与 OpenAI API 交互的类，它有以下可用的参数：\n",
        "\n",
        "• model_name: 要使用的 OpenAI 模型名称。可用的模型名称包括：\n",
        "\n",
        "• openai_api_key: 可选，用于验证 OpenAI API 请求的 API 密钥。如果未提供，将从环境变量 OPENAI_API_KEY 中读取。\n",
        "\n",
        "• openai_api_base: 可选，OpenAI API 的基本 URL 路径。默认值为 https://api.openai.com/v1。\n",
        "\n",
        "• max_tokens: 可选，生成的最大令牌数。默认值为 16。\n",
        "\n",
        "• top_p: 可选，控制生成随机性的参数。默认值为 1.0。\n",
        "\n",
        "• temperature: 可选，控制生成随机性的参数。默认值为 1.0。\n",
        "\n",
        "• frequency_penalty: 可选，控制生成重复令牌的参数。默认值为 0.0。\n",
        "\n",
        "• presence_penalty: 可选，控制生成新令牌的参数。默认值为 0.0。\n",
        "\n",
        "• n: 可选，生成多个响应的数量。默认值为 1。\n",
        "\n",
        "• streaming: 可选，启用流式处理。默认值为False。当 streaming 设置为 True 时，可以在长生成任务中实时获取生成结果，而不需要等待整个生成任务完成。这对于生成大量文本或需要实时反馈的应用程序非常有用。"
      ],
      "metadata": {
        "id": "MMgUiWHpxEdX"
      }
    },
    {
      "cell_type": "code",
      "source": [
        "# 实际撰写代码时，我们会把调用的工具放在代码最前端\n",
        "\n",
        "from langchain.prompts.chat import (SystemMessagePromptTemplate, HumanMessagePromptTemplate, ChatPromptTemplate)\n",
        "from langchain.chat_models import ChatOpenAI\n",
        "from langchain.chains import LLMChain\n",
        "\n",
        "# 设计提问模板\n",
        "\n",
        "system_template = SystemMessagePromptTemplate.from_template(\"你是北京语言大学高级翻译学院从事翻译技术教学与研究的教师\")\n",
        "\n",
        "user_template = HumanMessagePromptTemplate.from_template(\"{user_prompt}\")\n",
        "\n",
        "template = ChatPromptTemplate.from_messages([system_template, user_template])\n",
        "\n",
        "# 创建OpenAI问答实例\n",
        "\n",
        "llm = ChatOpenAI(temperature=0.7, model_name=\"gpt-4\", n=3)\n",
        "\n",
        "# 创建一个语言链\n",
        "\n",
        "chain = LLMChain(llm=llm, prompt=template)\n",
        "\n",
        "# 创建用户问题\n",
        "\n",
        "user_prompt = \"翻译专业学生是否需要学习编程\"\n",
        "\n",
        "# 运行语言链\n",
        "\n",
        "chain_output = chain.run({\"user_prompt\": user_prompt})\n",
        "\n",
        "print(chain_output)\n",
        "\n"
      ],
      "metadata": {
        "id": "C9_x_aU2xT4x"
      },
      "execution_count": null,
      "outputs": []
    },
    {
      "cell_type": "markdown",
      "source": [
        "**备注**\n",
        "\n",
        "撰写以上教程时参考了：\n",
        "\n",
        "**1. Introduction to OpenAI and LangChain**\n",
        "\n",
        "https://medium.com/@786sksujanislam786/introduction-to-openai-and-langchain-131fb629becb\n",
        "\n",
        "**2. LangChain Chat**\n",
        "\n",
        "https://chat.langchain.com/"
      ],
      "metadata": {
        "id": "5gzvtJm3yaeR"
      }
    },
    {
      "cell_type": "markdown",
      "source": [
        "**第六步：使用LangChain Template完成批量翻译**"
      ],
      "metadata": {
        "id": "yP4fbJDmzEmx"
      }
    },
    {
      "cell_type": "code",
      "source": [
        "# 待翻译的英文句子\n",
        "\n",
        "sentences = [\n",
        "    \"Notwithstanding the challenges faced, the project was completed on time.\",\n",
        "    \"Her understanding of astrophysics is profound, reflecting years of dedicated study.\",\n",
        "    \"The juxtaposition of classical and modern elements creates an intriguing aesthetic.\",\n",
        "    \"He articulated his arguments so eloquently that everyone was convinced.\",\n",
        "    \"This paradigm shift in scientific thought marks a pivotal moment in history.\",\n",
        "    \"The nuances of the language make it a challenging yet rewarding subject to learn.\",\n",
        "    \"Her mastery of the piano is evident through her emotive and technically flawless performances.\",\n",
        "    \"Such a meticulous analysis of the data reveals previously unnoticed patterns.\",\n",
        "    \"His rhetoric, replete with literary allusions, captivated the audience.\",\n",
        "    \"The synthesis of these diverse ideas could lead to a groundbreaking discovery.\"\n",
        "]"
      ],
      "metadata": {
        "id": "yhBZMDjPzL4Q"
      },
      "execution_count": 14,
      "outputs": []
    },
    {
      "cell_type": "code",
      "source": [
        "from langchain import PromptTemplate # 引入模板\n",
        "from langchain.chat_models import ChatOpenAI # 引入模型\n",
        "from langchain.chains import LLMChain # 引入语言链\n",
        "\n",
        "# 创建模板\n",
        "\n",
        "system_template = \"你是北京语言大学高级翻译学院翻译专业的资深教师，擅长英中翻译\"\n",
        "\n",
        "user_template = \"这里有一个难度比较高的英文句子：{sentences}，请翻译成适合出版的中文\"\n",
        "\n",
        "template = PromptTemplate(input_variables=[\"sentences\"], template=user_template)\n",
        "\n",
        "# 创建语言模型\n",
        "\n",
        "llm = ChatOpenAI(temperature=0.7, model_name=\"gpt-4\")\n",
        "\n",
        "# 创建语言链\n",
        "\n",
        "chain = LLMChain(llm=llm, prompt=template)\n",
        "\n",
        "# 生成输入\n",
        "\n",
        "user_prompt = {\"sentences\": sentences}\n",
        "\n",
        "# 运行语言链\n",
        "chain_output = chain.run(user_prompt)\n",
        "\n",
        "print(chain_output)"
      ],
      "metadata": {
        "colab": {
          "base_uri": "https://localhost:8080/"
        },
        "id": "ssUyGG4z0HtJ",
        "outputId": "915f69dc-55d1-4db9-d9fb-5879477902ba"
      },
      "execution_count": 15,
      "outputs": [
        {
          "output_type": "stream",
          "name": "stdout",
          "text": [
            "1. 尽管面临许多挑战，但项目还是按时完成了。\n",
            "2. 她对天体物理学的理解深邃，反映出她多年的专注研究。\n",
            "3. 古典元素和现代元素的并置创造了一种引人入胜的美学。\n",
            "4. 他的论据表述得如此有力，使得所有人都被说服了。\n",
            "5. 这种科学思想的范式转变标志着历史上的一个关键时刻。\n",
            "6. 这种语言的细微差别使其成为一门具有挑战性但又值得学习的科目。\n",
            "7. 从她充满感情且技术无懈可击的演奏中，可以明显看出她对钢琴的精通。\n",
            "8. 对数据的如此细致的分析揭示了之前未被注意到的模式。\n",
            "9. 他的演讲充满了文学典故，深深地吸引了观众。\n",
            "10. 这些多元思想的融合可能会带来一项开创性的发现。\n"
          ]
        }
      ]
    },
    {
      "cell_type": "code",
      "source": [
        "# 修改代码，逐句翻译并输出\n",
        "\n",
        "from langchain import PromptTemplate  # 引入模板\n",
        "from langchain.chat_models import ChatOpenAI  # 引入模型\n",
        "from langchain.chains import LLMChain  # 引入语言链\n",
        "\n",
        "# 创建模板\n",
        "system_template = \"你是北京语言大学高级翻译学院翻译专业的资深教师，擅长英中翻译\"\n",
        "user_template = \"这里有一个难度比较高的英文句子：{sentences}，请翻译成适合出版的中文\"\n",
        "\n",
        "template = PromptTemplate(input_variables=[\"sentences\"], template=user_template)\n",
        "\n",
        "# 创建语言模型\n",
        "llm = ChatOpenAI(temperature=0.7, model_name=\"gpt-4\")\n",
        "\n",
        "# 创建语言链\n",
        "chain = LLMChain(llm=llm, prompt=template)\n",
        "\n",
        "# 遍历句子并翻译\n",
        "for sentence in sentences:\n",
        "    # 生成输入\n",
        "    user_prompt = {\"sentences\": sentence}\n",
        "\n",
        "    # 运行语言链\n",
        "    chain_output = chain.run(user_prompt)\n",
        "\n",
        "    # 输出翻译结果\n",
        "    print(f\"原句: {sentence}\\n翻译: {chain_output}\\n\")\n"
      ],
      "metadata": {
        "colab": {
          "base_uri": "https://localhost:8080/"
        },
        "id": "AeoV1u6h2nzb",
        "outputId": "e04b2fe0-6bed-45d5-c90b-003f2f9905bc"
      },
      "execution_count": 16,
      "outputs": [
        {
          "output_type": "stream",
          "name": "stdout",
          "text": [
            "原句: Notwithstanding the challenges faced, the project was completed on time.\n",
            "翻译: 尽管面临诸多挑战，项目还是按时完成了。\n",
            "\n",
            "原句: Her understanding of astrophysics is profound, reflecting years of dedicated study.\n",
            "翻译: 她对天体物理学的理解深刻，反映出她多年来专注的学习。\n",
            "\n",
            "原句: The juxtaposition of classical and modern elements creates an intriguing aesthetic.\n",
            "翻译: 古典与现代元素的并置创造出了一种引人入胜的美学效果。\n",
            "\n",
            "原句: He articulated his arguments so eloquently that everyone was convinced.\n",
            "翻译: 他的论点阐述得如此雄辩，以至于所有人都被说服了。\n",
            "\n",
            "原句: This paradigm shift in scientific thought marks a pivotal moment in history.\n",
            "翻译: 这种科学思维的范式转变标志着历史的关键时刻。\n",
            "\n",
            "原句: The nuances of the language make it a challenging yet rewarding subject to learn.\n",
            "翻译: 语言的微妙之处使得学习它既富有挑战性，又极具成就感。\n",
            "\n",
            "原句: Her mastery of the piano is evident through her emotive and technically flawless performances.\n",
            "翻译: 她精湛的钢琴技艺通过其充满情感且技术无懈可击的演奏显而易见。\n",
            "\n",
            "原句: Such a meticulous analysis of the data reveals previously unnoticed patterns.\n",
            "翻译: 这种对数据的细致分析揭示了以前未被注意到的模式。\n",
            "\n",
            "原句: His rhetoric, replete with literary allusions, captivated the audience.\n",
            "翻译: 他充满文学典故的修辞深深吸引了观众。\n",
            "\n",
            "原句: The synthesis of these diverse ideas could lead to a groundbreaking discovery.\n",
            "翻译: 这些多元思想的融合可能会引领一项开创性的发现。\n",
            "\n"
          ]
        }
      ]
    },
    {
      "cell_type": "markdown",
      "source": [
        "**第七步：打印费用和耗时**"
      ],
      "metadata": {
        "id": "bshetBUx3e_h"
      }
    },
    {
      "cell_type": "code",
      "source": [
        "from langchain import PromptTemplate  # 引入模板\n",
        "from langchain.chat_models import ChatOpenAI  # 引入模型\n",
        "from langchain.chains import LLMChain  # 引入语言链\n",
        "from langchain.callbacks import get_openai_callback # 引入OpenAI Callback，用于计算费用\n",
        "import time #用于计算耗时\n",
        "\n",
        "# 创建模板\n",
        "system_template = \"你是北京语言大学高级翻译学院翻译专业的资深教师，擅长英中翻译\"\n",
        "user_template = \"这里有一个难度比较高的英文句子：{sentences}，请翻译成适合出版的中文\"\n",
        "\n",
        "template = PromptTemplate(input_variables=[\"sentences\"], template=user_template)\n",
        "\n",
        "# 创建语言模型\n",
        "llm = ChatOpenAI(temperature=0.7, model_name=\"gpt-4\")\n",
        "\n",
        "# 创建语言链\n",
        "chain = LLMChain(llm=llm, prompt=template)\n",
        "\n",
        "\n",
        "\n",
        "total_cost = 0  # 初始化总费用\n",
        "total_time = 0  # 初始化总耗时\n",
        "\n",
        "# 遍历句子并翻译\n",
        "for sentence in sentences:\n",
        "    # 生成输入\n",
        "    user_prompt = {\"sentences\": sentence}\n",
        "\n",
        "    # 记录开始时间\n",
        "    start_time = time.time()\n",
        "\n",
        "    # 使用OpenAI Callback计算费用\n",
        "    with get_openai_callback() as cb:\n",
        "        # 运行语言链\n",
        "        chain_output = chain.run(user_prompt)\n",
        "\n",
        "        # 本次调用的费用\n",
        "        cost = cb.total_cost\n",
        "        total_cost += cost  # 更新总费用\n",
        "\n",
        "    # 计算完成这一行的耗时\n",
        "    row_time = time.time() - start_time\n",
        "    total_time += row_time  # 更新总耗时\n",
        "\n",
        "    # 输出翻译结果\n",
        "    print(f\"原句: {sentence}\\n翻译: {chain_output}\\n耗时：{row_time}秒\\n耗费：{cost}美元\\n\")\n",
        "\n",
        "# 所有循环结束后，打印总费用和总耗时\n",
        "print(f\"\\n所有句子翻译完毕。总费用为: {total_cost:.6f} 美元，总耗时: {total_time:.2f} 秒\")\n",
        "\n"
      ],
      "metadata": {
        "colab": {
          "base_uri": "https://localhost:8080/"
        },
        "id": "AVJr4e8m3pUx",
        "outputId": "fc04ee1a-cd42-4d4e-e48b-01318c25bebc"
      },
      "execution_count": 22,
      "outputs": [
        {
          "output_type": "stream",
          "name": "stdout",
          "text": [
            "原句: Notwithstanding the challenges faced, the project was completed on time.\n",
            "翻译: 尽管面临诸多挑战，项目还是如期完成了。\n",
            "耗时：2.064326047897339秒\n",
            "耗费：0.00294美元\n",
            "\n",
            "原句: Her understanding of astrophysics is profound, reflecting years of dedicated study.\n",
            "翻译: 她对天体物理学的理解深邃，反映出多年来的专注研究。\n",
            "耗时：3.4897823333740234秒\n",
            "耗费：0.0036美元\n",
            "\n",
            "原句: The juxtaposition of classical and modern elements creates an intriguing aesthetic.\n",
            "翻译: 古典与现代元素的并置产生了一种引人入胜的审美效果。\n",
            "耗时：5.009399652481079秒\n",
            "耗费：0.0033美元\n",
            "\n",
            "原句: He articulated his arguments so eloquently that everyone was convinced.\n",
            "翻译: 他的论点阐述得如此雄辩，以至于所有人都被说服了。\n",
            "耗时：2.4561729431152344秒\n",
            "耗费：0.00324美元\n",
            "\n",
            "原句: This paradigm shift in scientific thought marks a pivotal moment in history.\n",
            "翻译: 这种科学思维的范式转变标志着历史上的一个关键时刻。\n",
            "耗时：2.738492488861084秒\n",
            "耗费：0.00336美元\n",
            "\n",
            "原句: The nuances of the language make it a challenging yet rewarding subject to learn.\n",
            "翻译: 语言的微妙差异使得学习它既富有挑战性又极具成就感。\n",
            "耗时：4.407325744628906秒\n",
            "耗费：0.0038399999999999997美元\n",
            "\n",
            "原句: Her mastery of the piano is evident through her emotive and technically flawless performances.\n",
            "翻译: 她对钢琴的精湛掌控力从她充满感情且技术无懈可击的演奏中显而易见。\n",
            "耗时：6.3426291942596436秒\n",
            "耗费：0.00465美元\n",
            "\n",
            "原句: Such a meticulous analysis of the data reveals previously unnoticed patterns.\n",
            "翻译: 这样一种细致入微的数据分析揭示了以前未被注意到的模式。\n",
            "耗时：4.326309442520142秒\n",
            "耗费：0.0033299999999999996美元\n",
            "\n",
            "原句: His rhetoric, replete with literary allusions, captivated the audience.\n",
            "翻译: 他那充满文学典故的雄辩术深深地吸引了听众。\n",
            "耗时：3.1751606464385986秒\n",
            "耗费：0.00366美元\n",
            "\n",
            "原句: The synthesis of these diverse ideas could lead to a groundbreaking discovery.\n",
            "翻译: 这些多元思想的综合可能会带来一项突破性的发现。\n",
            "耗时：2.2594268321990967秒\n",
            "耗费：0.0033美元\n",
            "\n",
            "\n",
            "所有句子翻译完毕。总费用为: 0.035220 美元，总耗时: 36.27 秒\n"
          ]
        }
      ]
    },
    {
      "cell_type": "markdown",
      "source": [
        "**总结**\n",
        "\n",
        "通过上面的步骤，我们了解了如何通过LangChain来构建“语言链”完成纯文本翻译。"
      ],
      "metadata": {
        "id": "llPOL7W4OCSx"
      }
    }
  ]
}