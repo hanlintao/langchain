{
  "nbformat": 4,
  "nbformat_minor": 0,
  "metadata": {
    "colab": {
      "provenance": [],
      "authorship_tag": "ABX9TyPCAeKEt/qBbt7bLsx/iGN2",
      "include_colab_link": true
    },
    "kernelspec": {
      "name": "python3",
      "display_name": "Python 3"
    },
    "language_info": {
      "name": "python"
    }
  },
  "cells": [
    {
      "cell_type": "markdown",
      "metadata": {
        "id": "view-in-github",
        "colab_type": "text"
      },
      "source": [
        "<a href=\"https://colab.research.google.com/github/hanlintao/langchain/blob/main/PDF2Abstract.ipynb\" target=\"_parent\"><img src=\"https://colab.research.google.com/assets/colab-badge.svg\" alt=\"Open In Colab\"/></a>"
      ]
    },
    {
      "cell_type": "code",
      "execution_count": null,
      "metadata": {
        "id": "JbIzsUnLv-6-"
      },
      "outputs": [],
      "source": [
        "%pip install --upgrade --quiet  langchain-openai tiktoken langchain"
      ]
    },
    {
      "cell_type": "code",
      "source": [
        "import os\n",
        "\n",
        "# 设置环境变量 OPENAI_API_KEY\n",
        "os.environ['OPENAI_API_KEY'] = ''\n",
        "\n",
        "# 验证环境变量是否设置成功\n",
        "print(\"OPENAI_API_KEY:\", os.environ.get('OPENAI_API_KEY'))\n"
      ],
      "metadata": {
        "id": "Obc3m_klwF8q"
      },
      "execution_count": null,
      "outputs": []
    },
    {
      "cell_type": "code",
      "source": [
        "from langchain.chains.summarize import load_summarize_chain\n",
        "from langchain_community.document_loaders import WebBaseLoader\n",
        "from langchain.callbacks import get_openai_callback\n",
        "\n",
        "pdf_path = '二语句法复杂度分析器及其在二语写作研究中的应用_陆小飞.pdf'\n",
        "loader = PyPDFLoader(pdf_path)\n",
        "docs = loader.load()\n",
        "\n",
        "llm = ChatOpenAI(temperature=0, model_name=\"gpt-4-1106-preview\")\n",
        "#chain = load_summarize_chain(llm, chain_type=\"stuff\")\n",
        "\n",
        "#chain.run(docs)\n",
        "\n",
        "prompt_template = \"\"\"请撰写这篇论文的核心内容、研究方法、数据来源、实验过程、研究结论:\n",
        "\n",
        "{text}\n",
        "\n",
        "请使用中文来提供详细的答案，不少于1000字\"\"\"\n",
        "PROMPT = PromptTemplate(template=prompt_template, input_variables=[\"text\"])\n",
        "\n",
        "\n",
        "total_cost = 0  # 初始化总费用\n",
        "\n",
        "with get_openai_callback() as cb:\n",
        "        chain = load_summarize_chain(llm, chain_type=\"stuff\", prompt=PROMPT)\n",
        "        abstract = chain.run(docs)\n",
        "        print(f'\\n摘要为：{abstract}')\n",
        "        #print(f\"\\n本次消耗: {cb.total_cost} 美元\")\n",
        "        total_cost = cb.total_cost  # 更新总费用\n",
        "\n",
        "\n",
        "print(f\"\\n摘要抽取完毕。总费用为: {total_cost} 美元\")  # 所有循环结束后，打印总费用\n",
        ""
      ],
      "metadata": {
        "id": "e9FAOuevwLr7"
      },
      "execution_count": null,
      "outputs": []
    }
  ]
}