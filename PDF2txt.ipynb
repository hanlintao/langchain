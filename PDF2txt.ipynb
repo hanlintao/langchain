{
  "nbformat": 4,
  "nbformat_minor": 0,
  "metadata": {
    "colab": {
      "provenance": [],
      "include_colab_link": true
    },
    "kernelspec": {
      "name": "python3",
      "display_name": "Python 3"
    },
    "language_info": {
      "name": "python"
    }
  },
  "cells": [
    {
      "cell_type": "markdown",
      "metadata": {
        "id": "view-in-github",
        "colab_type": "text"
      },
      "source": [
        "<a href=\"https://colab.research.google.com/github/hanlintao/langchain/blob/main/PDF2txt.ipynb\" target=\"_parent\"><img src=\"https://colab.research.google.com/assets/colab-badge.svg\" alt=\"Open In Colab\"/></a>"
      ]
    },
    {
      "cell_type": "code",
      "execution_count": null,
      "metadata": {
        "id": "eESx7UNJ_z-Y"
      },
      "outputs": [],
      "source": [
        "%pip install openai\n",
        "%pip install langchain==0.0.263"
      ]
    },
    {
      "cell_type": "code",
      "source": [
        "import os\n",
        "\n",
        "from langchain.document_loaders import PyPDFLoader\n",
        "from langchain import PromptTemplate\n",
        "#from langchain.llms import OpenAI\n",
        "from langchain.chat_models import ChatOpenAI\n",
        "from langchain.chains import LLMChain\n",
        "from langchain.text_splitter import RecursiveCharacterTextSplitter\n",
        "from langchain.callbacks import get_openai_callback\n",
        "\n",
        "os.environ['OPENAI_API_KEY'] = \"****\"  #改成自己的key"
      ],
      "metadata": {
        "id": "ZcWBMf6xBgCW"
      },
      "execution_count": null,
      "outputs": []
    },
    {
      "cell_type": "code",
      "source": [
        "def save_to_txt(original_text, translated_text):\n",
        "    with open('translated_text.txt', 'w', encoding='utf-8') as file:\n",
        "        for original, translated in zip(original_text, translated_text):\n",
        "            file.write(f'原文：{original}\\n')\n",
        "            file.write(f'译文：{translated}\\n\\n')\n",
        "\n",
        "def read_pdf(pdf):\n",
        "    text_splitter = RecursiveCharacterTextSplitter(chunk_size=1000, chunk_overlap=0)\n",
        "    split_pdf_num = text_splitter.split_documents(pdf)\n",
        "    print(f'你的PDF文件被切割成了 {len(split_pdf_num)} 份')\n",
        "\n",
        "    template = \"请将下面的内容翻译中文：{chunk}\"\n",
        "\n",
        "    prompt = PromptTemplate(\n",
        "        input_variables=[\"chunk\"],\n",
        "        template=template,\n",
        "    )\n",
        "\n",
        "    OPENAI_API_KEY = os.environ['OPENAI_API_KEY']\n",
        "    llm = ChatOpenAI(temperature=0, openai_api_key=OPENAI_API_KEY, model_name=\"gpt-3.5-turbo-16k\")\n",
        "\n",
        "    total_cost = 0  # 初始化总费用\n",
        "    original_texts = []  # 存储所有原文的列表\n",
        "    translated_texts = []  # 存储所有翻译结果的列表\n",
        "\n",
        "    for i, split_pdf in enumerate(split_pdf_num):\n",
        "        print(f'\\n--- 第{i+1}页 ---')\n",
        "\n",
        "        cleaned_text = split_pdf.page_content.replace('\\n', '')\n",
        "\n",
        "        print(cleaned_text)\n",
        "\n",
        "        with get_openai_callback() as cb:\n",
        "            chain = LLMChain(llm=llm, prompt=prompt)\n",
        "            translated_text = chain.run(cleaned_text)\n",
        "            print(f'\\n译文为：{translated_text}')\n",
        "            print(f\"\\n本次消耗: {cb.total_cost} 美元\")\n",
        "            total_cost += cb.total_cost  # 更新总费用\n",
        "            original_texts.append(cleaned_text)  # 将原文添加到列表中\n",
        "            translated_texts.append(translated_text)  # 将翻译结果添加到列表中\n",
        "\n",
        "    print(f\"\\n所有页面翻译完毕。总费用为: {total_cost} 美元\")  # 所有循环结束后，打印总费用\n",
        "\n",
        "    # 在循环结束后，传递原文列表和译文列表给save_to_txt()函数\n",
        "    save_to_txt(original_texts, translated_texts)"
      ],
      "metadata": {
        "id": "67dRol_SCLPa"
      },
      "execution_count": null,
      "outputs": []
    },
    {
      "cell_type": "code",
      "source": [
        "%pip install pypdf"
      ],
      "metadata": {
        "id": "y2E8GqgCoaeV"
      },
      "execution_count": null,
      "outputs": []
    },
    {
      "cell_type": "code",
      "source": [
        "loader = PyPDFLoader(\"demo.pdf\")\n",
        "pages = loader.load_and_split()\n",
        "#read_pdf(pages[:3])\n",
        "read_pdf(pages)"
      ],
      "metadata": {
        "id": "MptGrJRMFIr5"
      },
      "execution_count": null,
      "outputs": []
    }
  ]
}